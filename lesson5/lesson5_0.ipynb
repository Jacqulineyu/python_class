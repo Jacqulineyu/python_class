{
 "cells": [
  {
   "cell_type": "code",
   "execution_count": 9,
   "id": "8060f713",
   "metadata": {},
   "outputs": [
    {
     "name": "stdout",
     "output_type": "stream",
     "text": [
      "體重不在30~200範圍\n",
      "應用程式結束\n"
     ]
    }
   ],
   "source": [
    "# BMI計算，要能偵測錯誤\n",
    "try:  \n",
    "    height = float(input(\"請輸入身高(公尺):\"))\n",
    "    if height < 1.20 or height > 2.20:\n",
    "        raise Exception(\"身高不在1.20~2.20範圍\") #自己raise錯誤\n",
    "    weight = int(input(\"請輸入體重(公斤)\"))\n",
    "    if weight < 30 or weight > 200:\n",
    "        raise Exception(\"體重不在30~200範圍\")\n",
    "    bmi = weight / height ** 2\n",
    "except ValueError:\n",
    "    print(\"輸入有錯誤\")\n",
    "except Exception as e:\n",
    "    print(e)\n",
    "else:\n",
    "    print(f\"身高:{height}\")\n",
    "    print(f\"體重:{weight}\")\n",
    "    print(f\"bmi值為:{bmi:.2f}\")\n",
    "print(\"應用程式結束\")"
   ]
  }
 ],
 "metadata": {
  "kernelspec": {
   "display_name": "base",
   "language": "python",
   "name": "python3"
  },
  "language_info": {
   "codemirror_mode": {
    "name": "ipython",
    "version": 3
   },
   "file_extension": ".py",
   "mimetype": "text/x-python",
   "name": "python",
   "nbconvert_exporter": "python",
   "pygments_lexer": "ipython3",
   "version": "3.13.2"
  }
 },
 "nbformat": 4,
 "nbformat_minor": 5
}
