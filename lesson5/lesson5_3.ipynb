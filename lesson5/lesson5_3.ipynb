{
 "cells": [
  {
   "cell_type": "markdown",
   "id": "20e0392d",
   "metadata": {},
   "source": [
    "### while(條件式):\n",
    "### 不知道執行的次數"
   ]
  },
  {
   "cell_type": "code",
   "execution_count": 3,
   "id": "2d5ecc14",
   "metadata": {},
   "outputs": [
    {
     "name": "stdout",
     "output_type": "stream",
     "text": [
      "恭喜!存了4月,總共存了30500元\n"
     ]
    }
   ],
   "source": [
    "#小明想要存錢買一輛機車,機車每輛30000元,他將每月存的錢輸入,當存款足夠買機車時,就顯示提示訊息告知.\n",
    "\n",
    "deposite = 0\n",
    "month = 0\n",
    "while(deposite<30000):\n",
    "    month += 1\n",
    "    input_value = int(input(\"請輸入第{month}月份的存款\"))\n",
    "    deposite += input_value\n",
    "\n",
    "print(f\"恭喜!存了{month}月,總共存了{deposite}元\")"
   ]
  }
 ],
 "metadata": {
  "kernelspec": {
   "display_name": "base",
   "language": "python",
   "name": "python3"
  },
  "language_info": {
   "codemirror_mode": {
    "name": "ipython",
    "version": 3
   },
   "file_extension": ".py",
   "mimetype": "text/x-python",
   "name": "python",
   "nbconvert_exporter": "python",
   "pygments_lexer": "ipython3",
   "version": "3.13.2"
  }
 },
 "nbformat": 4,
 "nbformat_minor": 5
}
