{
 "cells": [
  {
   "cell_type": "code",
   "execution_count": 5,
   "id": "8d997b7f",
   "metadata": {},
   "outputs": [
    {
     "name": "stdout",
     "output_type": "stream",
     "text": [
      "優\n"
     ]
    }
   ],
   "source": [
    "# 一組if最多執行一個程式區段\n",
    "# 比較嚴個的條件式要放在上面\n",
    "scores = int(input(\"請輸入學生分數0~100:\"))\n",
    "if scores < 60:\n",
    "    print('丁')\n",
    "elif scores < 70:\n",
    "    print('丙')\n",
    "elif scores < 80:\n",
    "    print('乙')\n",
    "elif scores < 90:\n",
    "    print('甲')\n",
    "else:\n",
    "    print('優')"
   ]
  }
 ],
 "metadata": {
  "kernelspec": {
   "display_name": "base",
   "language": "python",
   "name": "python3"
  },
  "language_info": {
   "codemirror_mode": {
    "name": "ipython",
    "version": 3
   },
   "file_extension": ".py",
   "mimetype": "text/x-python",
   "name": "python",
   "nbconvert_exporter": "python",
   "pygments_lexer": "ipython3",
   "version": "3.13.2"
  }
 },
 "nbformat": 4,
 "nbformat_minor": 5
}
