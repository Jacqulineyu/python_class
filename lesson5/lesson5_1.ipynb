{
 "cells": [
  {
   "cell_type": "code",
   "execution_count": 5,
   "id": "8d997b7f",
   "metadata": {},
   "outputs": [
    {
     "name": "stdout",
     "output_type": "stream",
     "text": [
      "優\n"
     ]
    }
   ],
   "source": [
    "# 一組if最多執行一個程式區段\n",
    "# 比較嚴個的條件式要放在上面\n",
    "scores = int(input(\"請輸入學生分數0~100:\"))\n",
    "if scores < 60:\n",
    "    print('丁')\n",
    "elif scores < 70:\n",
    "    print('丙')\n",
    "elif scores < 80:\n",
    "    print('乙')\n",
    "elif scores < 90:\n",
    "    print('甲')\n",
    "else:\n",
    "    print('優')"
   ]
  },
  {
   "cell_type": "markdown",
   "id": "eb11559c",
   "metadata": {},
   "source": [
    "### 組合2個條件\n",
    "- 巢狀判斷\n",
    "- 邏輯運算子(and 或 or)"
   ]
  },
  {
   "cell_type": "code",
   "execution_count": 8,
   "id": "109d617c",
   "metadata": {},
   "outputs": [
    {
     "name": "stdout",
     "output_type": "stream",
     "text": [
      "獎金0\n"
     ]
    }
   ],
   "source": [
    "#國文100同時數學100->1000元\n",
    "#國文100或者數學100->500元\n",
    "#其它->0元\n",
    "\n",
    "chinese = int(input(\"請輸入國文分數\"))\n",
    "math = int(input(\"請輸入數學分數\"))\n",
    "\n",
    "if chinese == 100 and math == 100:\n",
    "    print(\"獎金1000\")\n",
    "elif chinese == 100 or math == 100:\n",
    "    print(\"獎金500\")\n",
    "else:\n",
    "    print(\"獎金0\")"
   ]
  }
 ],
 "metadata": {
  "kernelspec": {
   "display_name": "base",
   "language": "python",
   "name": "python3"
  },
  "language_info": {
   "codemirror_mode": {
    "name": "ipython",
    "version": 3
   },
   "file_extension": ".py",
   "mimetype": "text/x-python",
   "name": "python",
   "nbconvert_exporter": "python",
   "pygments_lexer": "ipython3",
   "version": "3.13.2"
  }
 },
 "nbformat": 4,
 "nbformat_minor": 5
}
