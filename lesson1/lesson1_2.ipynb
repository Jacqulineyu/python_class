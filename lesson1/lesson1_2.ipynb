{
 "cells": [
  {
   "cell_type": "markdown",
   "id": "b068a913",
   "metadata": {},
   "source": [
    "### 這是我的第1個python程式\n",
    "\n",
    "這是第1堂課\n",
    "\n",
    "現在在學習基礎程式"
   ]
  },
  {
   "cell_type": "markdown",
   "id": "933685b4",
   "metadata": {},
   "source": [
    "## 這是列表\n",
    "- 列表1\n",
    "- 列表2\n",
    "- 列表3"
   ]
  },
  {
   "cell_type": "markdown",
   "id": "d529a535",
   "metadata": {},
   "source": [
    "## 這是清單\n",
    "- 清單1\n",
    "- 清單2\n",
    "- 清單3"
   ]
  },
  {
   "cell_type": "markdown",
   "id": "446bad76",
   "metadata": {},
   "source": [
    "## 純值"
   ]
  },
  {
   "cell_type": "code",
   "execution_count": 1,
   "id": "7dfee6bf",
   "metadata": {},
   "outputs": [
    {
     "data": {
      "text/plain": [
       "'10.0'"
      ]
     },
     "execution_count": 1,
     "metadata": {},
     "output_type": "execute_result"
    }
   ],
   "source": [
    "#數值,字串\n",
    "10 #int\n",
    "10.0 #float\n",
    "\"10.0\" #str"
   ]
  },
  {
   "cell_type": "markdown",
   "id": "19c7bd32",
   "metadata": {},
   "source": [
    "### 數學運算子"
   ]
  },
  {
   "cell_type": "code",
   "execution_count": 2,
   "id": "fce6bf69",
   "metadata": {},
   "outputs": [
    {
     "data": {
      "text/plain": [
       "369729637649726772657187905628805440595668764281741102430259972423552570455277523421410650010128232727940978889548326540119429996769494359451621570193644014418071060667659301384999779999159200499899"
      ]
     },
     "execution_count": 2,
     "metadata": {},
     "output_type": "execute_result"
    }
   ],
   "source": [
    "5 + 8\n",
    "90 - 10\n",
    "4 * 7\n",
    "7 / 2\n",
    "7 // 2\n",
    "7 % 3\n",
    "3 ** 4\n",
    "99 ** 99"
   ]
  },
  {
   "cell_type": "markdown",
   "id": "983369fb",
   "metadata": {},
   "source": [
    "## 相同的數值類型才可以數學運算"
   ]
  },
  {
   "cell_type": "code",
   "execution_count": 3,
   "id": "a98bbd68",
   "metadata": {},
   "outputs": [
    {
     "data": {
      "text/plain": [
       "13.0"
      ]
     },
     "execution_count": 3,
     "metadata": {},
     "output_type": "execute_result"
    }
   ],
   "source": [
    "5 + 8\n",
    "5.0 + 8.0\n",
    "5 + 8.0"
   ]
  },
  {
   "cell_type": "code",
   "execution_count": 4,
   "id": "1010c848",
   "metadata": {},
   "outputs": [
    {
     "ename": "TypeError",
     "evalue": "can only concatenate str (not \"float\") to str",
     "output_type": "error",
     "traceback": [
      "\u001b[31m---------------------------------------------------------------------------\u001b[39m",
      "\u001b[31mTypeError\u001b[39m                                 Traceback (most recent call last)",
      "\u001b[36mCell\u001b[39m\u001b[36m \u001b[39m\u001b[32mIn[4]\u001b[39m\u001b[32m, line 1\u001b[39m\n\u001b[32m----> \u001b[39m\u001b[32m1\u001b[39m \u001b[33;43m'\u001b[39;49m\u001b[33;43m5\u001b[39;49m\u001b[33;43m'\u001b[39;49m\u001b[43m \u001b[49m\u001b[43m+\u001b[49m\u001b[43m \u001b[49m\u001b[32;43m8.0\u001b[39;49m\n",
      "\u001b[31mTypeError\u001b[39m: can only concatenate str (not \"float\") to str"
     ]
    }
   ],
   "source": [
    "'5' + 8.0"
   ]
  },
  {
   "cell_type": "markdown",
   "id": "83c483d4",
   "metadata": {},
   "source": [
    "字串和數值不可以運算"
   ]
  },
  {
   "cell_type": "markdown",
   "id": "9c344c29",
   "metadata": {},
   "source": [
    "### 字串和字串是(+)(*)連結"
   ]
  },
  {
   "cell_type": "code",
   "execution_count": 5,
   "id": "8fe457f7",
   "metadata": {},
   "outputs": [
    {
     "data": {
      "text/plain": [
       "'--------------------'"
      ]
     },
     "execution_count": 5,
     "metadata": {},
     "output_type": "execute_result"
    }
   ],
   "source": [
    "'5' + '8'\n",
    "'-'*20"
   ]
  },
  {
   "cell_type": "code",
   "execution_count": 6,
   "id": "3a11f7a7",
   "metadata": {},
   "outputs": [
    {
     "data": {
      "text/plain": [
       "18"
      ]
     },
     "execution_count": 6,
     "metadata": {},
     "output_type": "execute_result"
    }
   ],
   "source": [
    "### 多個數學運算子\n",
    "\n",
    "3 + 5 + 10"
   ]
  },
  {
   "cell_type": "markdown",
   "id": "013a327b",
   "metadata": {},
   "source": [
    "## 數學運算子的優先順序\n",
    "- ()\n",
    "- **\n",
    "- \\* / % //\n",
    "- \\+ -\n",
    "- ="
   ]
  },
  {
   "cell_type": "code",
   "execution_count": 7,
   "id": "3b770ec2",
   "metadata": {},
   "outputs": [
    {
     "data": {
      "text/plain": [
       "14"
      ]
     },
     "execution_count": 7,
     "metadata": {},
     "output_type": "execute_result"
    }
   ],
   "source": [
    "2 + 3 * 4"
   ]
  },
  {
   "cell_type": "code",
   "execution_count": 8,
   "id": "7c65bdee",
   "metadata": {},
   "outputs": [
    {
     "data": {
      "text/plain": [
       "20"
      ]
     },
     "execution_count": 8,
     "metadata": {},
     "output_type": "execute_result"
    }
   ],
   "source": [
    "(2 + 3) * 4"
   ]
  },
  {
   "cell_type": "code",
   "execution_count": 9,
   "id": "69d7af75",
   "metadata": {},
   "outputs": [
    {
     "data": {
      "text/plain": [
       "10"
      ]
     },
     "execution_count": 9,
     "metadata": {},
     "output_type": "execute_result"
    }
   ],
   "source": [
    "2 * (1+2) ** 2 - 2 ** 2 * 2"
   ]
  },
  {
   "cell_type": "markdown",
   "id": "7dcdc689",
   "metadata": {},
   "source": [
    "## python內建的功能(python內建的function)"
   ]
  },
  {
   "cell_type": "code",
   "execution_count": 10,
   "id": "a3d3e846",
   "metadata": {},
   "outputs": [
    {
     "name": "stdout",
     "output_type": "stream",
     "text": [
      "20.0\n",
      "30.0\n"
     ]
    }
   ],
   "source": [
    "print(10 + float('10.0'))\n",
    "print(10 + float('10.0') + int('10'))"
   ]
  },
  {
   "cell_type": "code",
   "execution_count": 11,
   "id": "b009dfad",
   "metadata": {},
   "outputs": [
    {
     "name": "stdout",
     "output_type": "stream",
     "text": [
      "3\n",
      "10.0\n",
      "abc\n",
      "robert\n",
      "3 10.0 abc robert 90\n"
     ]
    }
   ],
   "source": [
    "print(3)\n",
    "print(10.0)\n",
    "print('abc')\n",
    "print('robert')\n",
    "print(3, 10.0, 'abc', 'robert', 90)"
   ]
  },
  {
   "cell_type": "code",
   "execution_count": 12,
   "id": "282b9c4f",
   "metadata": {},
   "outputs": [
    {
     "data": {
      "text/plain": [
       "'robert'"
      ]
     },
     "execution_count": 12,
     "metadata": {},
     "output_type": "execute_result"
    }
   ],
   "source": [
    "'robert'"
   ]
  }
 ],
 "metadata": {
  "kernelspec": {
   "display_name": "base",
   "language": "python",
   "name": "python3"
  },
  "language_info": {
   "codemirror_mode": {
    "name": "ipython",
    "version": 3
   },
   "file_extension": ".py",
   "mimetype": "text/x-python",
   "name": "python",
   "nbconvert_exporter": "python",
   "pygments_lexer": "ipython3",
   "version": "3.13.2"
  }
 },
 "nbformat": 4,
 "nbformat_minor": 5
}
